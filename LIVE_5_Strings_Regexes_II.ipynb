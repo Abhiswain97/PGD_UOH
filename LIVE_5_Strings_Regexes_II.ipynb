{
  "cells": [
    {
      "cell_type": "markdown",
      "metadata": {
        "id": "PKUUSGxXr4rC"
      },
      "source": [
        "## LIVE 5: Strings and Regex-II\n",
        " - Focus: Basics of strings and regex in Python +  interesting problem solving. \n",
        " - Prereq: Basic knowledge of Strings and Regex in Python + previous code-sessions.\n",
        " - Reference for basics: \n",
        "     - https://docs.python.org/3/howto/regex.html\n",
        "     - https://docs.python.org/3/library/re.html\n",
        "     - https://www.w3schools.com/python/python_strings.asp\n",
        "     - https://www.geeksforgeeks.org/python-strings/\n",
        "     \n",
        "     \n",
        "Slide-show: https://medium.com/@mjspeck/presenting-code-using-jupyter-notebook-slides-a8a3c3b59d67\n"
      ]
    },
    {
      "cell_type": "markdown",
      "metadata": {
        "id": "yqVxYod7r4rQ"
      },
      "source": [
        "## Problem 2: Extract data from a PDF invoice\n",
        "- Given a PDF [https://slicedinvoices.com/pdf/wordpress-pdf-invoice-plugin-sample.pdf], extract predefined key fields from this PDF\n",
        "- Assume the format is fixed.\n",
        "\n"
      ]
    },
    {
      "cell_type": "code",
      "execution_count": null,
      "metadata": {
        "id": "O2mbIROAr4rS",
        "outputId": "f7e47346-2929-4816-bd5c-40f0cccbea10"
      },
      "outputs": [
        {
          "name": "stdout",
          "output_type": "stream",
          "text": [
            "Requirement already satisfied: pyPDF4 in /usr/local/lib/python3.7/site-packages (1.27.0)\r\n"
          ]
        }
      ],
      "source": [
        "# https://realpython.com/pdf-python/#history-of-pypdf-pypdf2-and-pypdf4\n",
        "\n",
        "!pip3 install pyPDF4\n"
      ]
    },
    {
      "cell_type": "code",
      "execution_count": null,
      "metadata": {
        "id": "K8DNd2-Mr4rV",
        "outputId": "be59474f-2bda-4ff3-bb52-3400463ee28c"
      },
      "outputs": [
        {
          "name": "stdout",
          "output_type": "stream",
          "text": [
            "Invoice\n",
            "Payment is due within 30 days from date of invoice. Late payment is subject to fees of 5% per month.\n",
            "Thanks for choosing \n",
            "DEMO - Sliced Invoices\n",
            " | \n",
            "admin@slicedinvoices.com\n",
            "Page 1/1\n",
            "From:\n",
            "DEMO - Sliced Invoices\n",
            "Suite 5A-1204\n",
            "123 Somewhere Street\n",
            "Your City AZ 12345\n",
            "admin@slicedinvoices.com\n",
            "Invoice Number\n",
            "INV-3337\n",
            "Order Number\n",
            "12345\n",
            "Invoice Date\n",
            "January 25, 2016\n",
            "Due Date\n",
            "January 31, 2016\n",
            "Total Due\n",
            "$93.50\n",
            "To:\n",
            "Test Business\n",
            "123 Somewhere St\n",
            "Melbourne, VIC 3000\n",
            "test@test.com\n",
            "Hrs/Qty\n",
            "Service\n",
            "Rate/Price\n",
            "Adjust\n",
            "Sub Total\n",
            "1.00\n",
            "Web Design\n",
            "This is a sample description...\n",
            "$85.00\n",
            "0.00%\n",
            "$85.00\n",
            "Sub Total\n",
            "$85.00\n",
            "Tax\n",
            "$8.50\n",
            "Total\n",
            "$93.50\n",
            "ANZ Bank\n",
            "ACC # 1234 1234\n",
            "BSB # 4321 432\n",
            "Paid\n",
            "\n"
          ]
        }
      ],
      "source": [
        "# Google \"pyPDF extract text\" ---> https://www.soudegesu.com/en/post/python/extract-text-from-pdf-with-pypdf2/\n",
        "import PyPDF4\n",
        "\n",
        "FILE_PATH = './invoice.pdf'\n",
        "\n",
        "with open(FILE_PATH, mode='rb') as f:\n",
        "    reader = PyPDF4.PdfFileReader(f)\n",
        "    page = reader.getPage(0)\n",
        "    print(page.extractText())\n"
      ]
    },
    {
      "cell_type": "code",
      "execution_count": null,
      "metadata": {
        "id": "Pc-E8mkvr4rW"
      },
      "outputs": [],
      "source": [
        "import PyPDF4\n",
        "\n",
        "FILE_PATH = './invoice.pdf'\n",
        "\n",
        "with open(FILE_PATH, mode='rb') as f:\n",
        "    reader = PyPDF4.PdfFileReader(f)\n",
        "    page = reader.getPage(0)\n",
        "    txt = page.extractText();"
      ]
    },
    {
      "cell_type": "code",
      "execution_count": null,
      "metadata": {
        "id": "Ud3LKfuHr4rX",
        "outputId": "30190e94-2c40-4a3b-c8c6-5df78fb5f420"
      },
      "outputs": [
        {
          "name": "stdout",
          "output_type": "stream",
          "text": [
            "['INV-3337']\n"
          ]
        }
      ],
      "source": [
        "# extract invoice number\n",
        "\n",
        "m = re.findall(\"INV-[0-9]*\", txt)\n",
        "print(m)\n"
      ]
    },
    {
      "cell_type": "code",
      "execution_count": null,
      "metadata": {
        "id": "uFpt4Mzrr4rY",
        "outputId": "a3a635fb-071f-4085-d211-f42409ac0bb5"
      },
      "outputs": [
        {
          "name": "stdout",
          "output_type": "stream",
          "text": [
            "[]\n"
          ]
        }
      ],
      "source": [
        "# extract amounts\n",
        "m = re.findall(\"$[0-9]*\\.[0-9]*\", txt)\n",
        "print(m)\n"
      ]
    },
    {
      "cell_type": "code",
      "execution_count": null,
      "metadata": {
        "id": "LGWthTO5r4rZ",
        "outputId": "7b1f67e0-e609-4d01-a444-5260f668dfb3"
      },
      "outputs": [
        {
          "name": "stdout",
          "output_type": "stream",
          "text": [
            "['$93.50', '$85.00', '$85.00', '$85.00', '$8.50', '$93.50']\n"
          ]
        }
      ],
      "source": [
        "\n",
        "# extract amounts\n",
        "m = re.findall(\"\\$[0-9]*\\.[0-9]*\", txt)\n",
        "print(m)\n"
      ]
    },
    {
      "cell_type": "code",
      "execution_count": null,
      "metadata": {
        "id": "W1lYWa8Wr4rZ",
        "outputId": "e4b703b1-92cb-4e33-8577-d074710fa164"
      },
      "outputs": [
        {
          "name": "stdout",
          "output_type": "stream",
          "text": [
            "[]\n"
          ]
        }
      ],
      "source": [
        "# Extract Total Due:\n",
        "m = re.findall(\"Total Due\\$[0-9]*\\.[0-9]*\", txt)\n",
        "print(m)\n",
        "\n",
        "# Any suggestions?"
      ]
    },
    {
      "cell_type": "code",
      "execution_count": null,
      "metadata": {
        "id": "CJnhNIvur4ra",
        "outputId": "cd80e660-fbb9-416b-e024-8781daf7ec03"
      },
      "outputs": [
        {
          "name": "stdout",
          "output_type": "stream",
          "text": [
            "['Total Due\\n$93.50']\n"
          ]
        }
      ],
      "source": [
        "\n",
        "# Extract Total Due:\n",
        "m = re.findall(\"Total Due\\n\\$[0-9]*\\.[0-9]*\", txt)\n",
        "print(m)"
      ]
    },
    {
      "cell_type": "code",
      "execution_count": null,
      "metadata": {
        "id": "jceiWYa-r4rb",
        "outputId": "243f9e99-3107-473f-91a3-a61946187195"
      },
      "outputs": [
        {
          "name": "stdout",
          "output_type": "stream",
          "text": [
            "['$93.50']\n"
          ]
        }
      ],
      "source": [
        "print(re.findall(\"\\$[0-9]*\\.[0-9]*\",m[0]))"
      ]
    },
    {
      "cell_type": "code",
      "execution_count": null,
      "metadata": {
        "id": "yUKpALM5r4rc",
        "outputId": "54bdbc1a-bf29-403f-a3b7-3409f5806e26"
      },
      "outputs": [
        {
          "name": "stdout",
          "output_type": "stream",
          "text": [
            "['Invoice', 'Payment is due within 30 days from date of invoice. Late payment is subject to fees of 5% per month.', 'Thanks for choosing ', 'DEMO - Sliced Invoices', ' | ', 'admin@slicedinvoices.com', 'Page 1/1', 'From:', 'DEMO - Sliced Invoices', 'Suite 5A-1204', '123 Somewhere Street', 'Your City AZ 12345', 'admin@slicedinvoices.com', 'Invoice Number', 'INV-3337', 'Order Number', '12345', 'Invoice Date', 'January 25, 2016', 'Due Date', 'January 31, 2016', 'Total Due', '$93.50', 'To:', 'Test Business', '123 Somewhere St', 'Melbourne, VIC 3000', 'test@test.com', 'Hrs/Qty', 'Service', 'Rate/Price', 'Adjust', 'Sub Total', '1.00', 'Web Design', 'This is a sample description...', '$85.00', '0.00%', '$85.00', 'Sub Total', '$85.00', 'Tax', '$8.50', 'Total', '$93.50', 'ANZ Bank', 'ACC # 1234 1234', 'BSB # 4321 432', 'Paid', '']\n",
            "\n",
            "\n",
            " Invocie date:January 25, 2016\n"
          ]
        }
      ],
      "source": [
        "# Extract dates in this doc gieven a fixed format using line number\n",
        "res = re.split(\"\\n\", txt);\n",
        "print(res)\n",
        "\n",
        "print(\"\\n\\n Invoice date:\" +res[18])"
      ]
    },
    {
      "cell_type": "markdown",
      "metadata": {
        "id": "DWkdnccfr4rc"
      },
      "source": [
        "#### NOTE: Web-scarping\n",
        "- We can use \"re\" for extracting data from web-scarping. \n",
        "- But, it is better to sue ebautiful-soup like libraries as they use the structure of HTML \n",
        "- https://www.crummy.com/software/BeautifulSoup/bs4/doc/\n",
        "- We have done an earlier live session on web-scraping: https://youtu.be/EYzTeb_VXoI"
      ]
    },
    {
      "cell_type": "markdown",
      "metadata": {
        "id": "j4iNFOfjr4rd"
      },
      "source": [
        "### Ques: How do we handle cases where we want to extract data from multiple invoice formats?\n",
        "\n",
        "\n",
        "#### Assignment: Extract email-addresses from the PDF\n"
      ]
    },
    {
      "cell_type": "markdown",
      "metadata": {
        "id": "s6S8a8Dtr4rd"
      },
      "source": [
        "## Problem 3: Check if a number is a valid integer or float\n",
        "- TRUE: 12, 12.5, 1e10, 1e+6, 1e-10, -2.3, -2.4e-4 \n",
        "- FALSE: abc, -2.4e4.5, 1b2.4\n",
        "- TRICKY: Handle all the cases carefully.\n",
        "- Easy problem to code. But, hard not to miss cases.\n",
        "- Popular interview question to understand handling boundary cases.\n"
      ]
    },
    {
      "cell_type": "code",
      "execution_count": null,
      "metadata": {
        "id": "lWyVPe_4r4re"
      },
      "outputs": [],
      "source": [
        "# Source: https://www.geeksforgeeks.org/check-given-string-valid-number-integer-floating-point/\n",
        "# Sometimes, reading other's code is a good way to learn.\n",
        "# Explanatory comments are very important in your code. \n",
        "# We added more comments and clearly listed cases handled for better interpretability.\n",
        "\n",
        "\n",
        "# This code elimiates each of the FALSE cases and finally limits to only TRUE cases.\n",
        "# is a valid number \n",
        "def valid_number(str): \n",
        "    i = 0\n",
        "    j = len(str) - 1\n",
        "  \n",
        "    # Handling whitespaces: \"   123   \"\n",
        "    while i<len(str) and str[i] == ' ': # remove  whitespaces int he beginning\n",
        "        i += 1\n",
        "    \n",
        "    while j >= 0 and str[j] == ' ': # remove whitespaces at the end\n",
        "        j -= 1\n",
        "  \n",
        "    if i > j: # if only whitespaces in the given string\n",
        "        return False\n",
        "    \n",
        "    #str[i...j] is a whitespace removed (from beginning and end) string \n",
        "  \n",
        "    # if string is of length 1 and the only \n",
        "    # character is not a digit \n",
        "    if (i == j and not(str[i] >= '0' and \n",
        "                       str[i] <= '9')): \n",
        "        return False\n",
        "  \n",
        "    \n",
        "    # If the 1st char is not '+', '-', '.' or digit \n",
        "    if (str[i] != '.' and str[i] != '+' and \n",
        "        str[i] != '-' and not(str[i] >= '0' and \n",
        "        str[i] <= '9')): \n",
        "        return False\n",
        "  \n",
        "    # To check if a '.' or 'e' is found in given \n",
        "    # string.We use this flag to make sure that \n",
        "    # either of them appear only once. \n",
        "    flagDotOrE = False\n",
        "  \n",
        "    for i in range(j + 1): \n",
        "          \n",
        "        # If any of the char does not belong to \n",
        "        # {digit, +, -,., e} \n",
        "        if (str[i] != 'e' and str[i] != '.' and \n",
        "            str[i] != '+' and str[i] != '-' and not\n",
        "           (str[i] >= '0' and str[i] <= '9')): \n",
        "            return False # \"a123\" good to write cases eliminated\n",
        "  \n",
        "        if str[i] == '.': \n",
        "            \n",
        "            # check if the char e has already \n",
        "            # occured before '.' If yes, return 0 \n",
        "            if flagDotOrE: \n",
        "                return False #\"1e2.3\", \"1.2.3\"\n",
        "            \n",
        "            if i + 1 > len(str): \n",
        "                return False # \"123.\"\n",
        "            \n",
        "            if (not(str[i + 1] >= '0' and \n",
        "                    str[i + 1] <= '9')): \n",
        "                return False # \"123a\"\n",
        "\n",
        "            flagDotOrE = True\n",
        "            \n",
        "        elif str[i] == 'e': \n",
        "              \n",
        "            # set flagDotOrE = 1 when e is encountered. \n",
        "            flagDotOrE = True\n",
        "  \n",
        "            # if there is no digit before e \n",
        "            if (not(str[i - 1] >= '0' and \n",
        "                    str[i - 1] <= '9')): \n",
        "                return False # \"e123\"\n",
        "                  \n",
        "            # if e is the last character \n",
        "            if i + 1 > len(str): \n",
        "                return False # \"123e\"\n",
        "                  \n",
        "            # if e is not followed by \n",
        "            # '+', '-' or a digit \n",
        "            if (str[i + 1] != '+' and str[i + 1] != '-' and \n",
        "               (str[i + 1] >= '0' and str[i] <= '9')): \n",
        "                return False # \"1e.\" \"1ea\"\n",
        "                  \n",
        "    # If the string skips all the \n",
        "    # above cases, it must be a numeric string \n",
        "    return True\n",
        "  "
      ]
    },
    {
      "cell_type": "code",
      "execution_count": null,
      "metadata": {
        "id": "bkn4NO2Nr4rf",
        "outputId": "1199752a-273f-47fb-a631-0a85f098a143"
      },
      "outputs": [
        {
          "name": "stdout",
          "output_type": "stream",
          "text": [
            "True\n"
          ]
        }
      ],
      "source": [
        "print(valid_number(\"1e5\"))"
      ]
    },
    {
      "cell_type": "code",
      "execution_count": null,
      "metadata": {
        "id": "2h413Fagr4rh",
        "outputId": "7ed059cf-1a29-4bb1-a61c-dd0aff48f4ed"
      },
      "outputs": [
        {
          "name": "stdout",
          "output_type": "stream",
          "text": [
            "False\n"
          ]
        }
      ],
      "source": [
        "print(valid_number(\"1e1.5\"))"
      ]
    },
    {
      "cell_type": "code",
      "execution_count": null,
      "metadata": {
        "id": "9ThOoreOr4rh",
        "outputId": "caf1cdcb-5bbf-4ac4-d5e9-cb62e268113a"
      },
      "outputs": [
        {
          "name": "stdout",
          "output_type": "stream",
          "text": [
            "True\n"
          ]
        }
      ],
      "source": [
        "print(valid_number(\"1e+15\"))"
      ]
    },
    {
      "cell_type": "code",
      "execution_count": null,
      "metadata": {
        "id": "Mf-zKDP_r4ri",
        "outputId": "a82351c4-6027-404f-df32-e88f4e43cd18"
      },
      "outputs": [
        {
          "name": "stdout",
          "output_type": "stream",
          "text": [
            "True\n"
          ]
        }
      ],
      "source": [
        "print(valid_number(\"-1.2e-15\"))"
      ]
    },
    {
      "cell_type": "markdown",
      "metadata": {
        "id": "hmYxMFB0r4ri"
      },
      "source": [
        "## Problem 4:  Regex matching problem\n",
        "- \"?\" matches a single character\n",
        "- \"*\" matches zero or more charcters\n",
        "- Given a pattern(p) and a string(s), does p match s?\n",
        "- examples: \n",
        "    - TRUE: (\"\\*\", \"ab\"), (\"?a\" ,\"ba\"), (\"?a\" ,\"aa\"), (\"a\\*\" ,\"a\")\n",
        "    - FALSE: (\"\\*a\", \"ab\"), (\"?a\" ,\"baa\"), (\"?a\" ,\"a\"), (\"a\\*\" ,\"ba\")\n",
        "\n",
        "- Very popular interview question at product-based companies for SDEs.\n",
        "- Small variations of this are often used in interviews\n",
        "\n",
        "- Any suggestions?\n"
      ]
    },
    {
      "cell_type": "code",
      "execution_count": 1,
      "metadata": {
        "id": "HeFFEo9sr4rj"
      },
      "outputs": [],
      "source": [
        "# Handle all cases of recursion thoroughly.\r\n",
        "\r\n",
        "def isMatch(p,s):\r\n",
        "    \r\n",
        "    print(p,s) # print statemnt for debugging\r\n",
        "    \r\n",
        "    # boundary cases of recursion\r\n",
        "    if p == s:\r\n",
        "        return True\r\n",
        "    \r\n",
        "    if p == \"*\":\r\n",
        "        return True\r\n",
        "    \r\n",
        "    if p == \"\" or s == \"\":\r\n",
        "        return False\r\n",
        "    \r\n",
        "    # recursion case-1\r\n",
        "    if p[0] == s[0] or p[0] == '?':\r\n",
        "        return isMatch(p[1:], s[1:])\r\n",
        "    \r\n",
        "    # recursion-case-2\r\n",
        "    if p[0] == '*': \r\n",
        "        return ( isMatch( p[1:], s) or isMatch( p, s[1:]))\r\n",
        "    \r\n",
        "    # last case: if p[0] is a character\r\n",
        "    if  p[0] != s[0]:\r\n",
        "        return False;\r\n",
        "        "
      ]
    },
    {
      "cell_type": "code",
      "execution_count": 3,
      "metadata": {
        "id": "2rOMLj7Lr4rk",
        "outputId": "3da3d04b-04c4-4b1a-8d6f-a23d76e847c4"
      },
      "outputs": [
        {
          "name": "stdout",
          "output_type": "stream",
          "text": [
            "** abbba\n",
            "* abbba\n",
            "True\n"
          ]
        }
      ],
      "source": [
        "print(isMatch(\"**\",\"abbba\"))\r\n"
      ]
    },
    {
      "cell_type": "code",
      "execution_count": null,
      "metadata": {
        "id": "8UrMgtfkr4rk",
        "outputId": "f870ab95-608f-4cb0-d500-e669b3b20539"
      },
      "outputs": [
        {
          "name": "stdout",
          "output_type": "stream",
          "text": [
            "?a baa\n",
            "a aa\n",
            " a\n",
            "False\n"
          ]
        }
      ],
      "source": [
        "print(isMatch(\"?a\" ,\"baa\"))"
      ]
    },
    {
      "cell_type": "code",
      "execution_count": null,
      "metadata": {
        "id": "67gcL2L4r4rl",
        "outputId": "df33f315-cda5-47b4-99f4-4dc581a3fd80"
      },
      "outputs": [
        {
          "name": "stdout",
          "output_type": "stream",
          "text": [
            "a* ba\n",
            "False\n"
          ]
        }
      ],
      "source": [
        "print(isMatch(\"*\" ,\"ba\"))"
      ]
    },
    {
      "cell_type": "code",
      "execution_count": null,
      "metadata": {
        "id": "qR5VIWcar4rl",
        "outputId": "2c837d64-e28d-4a96-cecc-bbebeb8d652a"
      },
      "outputs": [
        {
          "data": {
            "text/html": [
              "<img src=\"https://i.imgur.com/dse47H3.png\"/>"
            ],
            "text/plain": [
              "<IPython.core.display.Image object>"
            ]
          },
          "execution_count": 153,
          "metadata": {
            "tags": []
          },
          "output_type": "execute_result"
        }
      ],
      "source": [
        "# Worst case Time Complexity: T(n) = T(n-1) + T(n-1) = 2* T(n-1)\n",
        "\n",
        "# => T(n) = 0(2^n) [as shown below]\n",
        "\n",
        "\n",
        "from IPython.display import Image\n",
        "Image(url= \"https://i.imgur.com/dse47H3.png\")\n"
      ]
    },
    {
      "cell_type": "code",
      "execution_count": null,
      "metadata": {
        "id": "e4652Obrr4rm",
        "outputId": "c0bc619b-9d4c-4b35-f45a-f4c8df5e79c3"
      },
      "outputs": [
        {
          "data": {
            "text/html": [
              "<img src=\"https://i.imgur.com/Rx6tN8a.png\"/>"
            ],
            "text/plain": [
              "<IPython.core.display.Image object>"
            ]
          },
          "execution_count": 155,
          "metadata": {
            "tags": []
          },
          "output_type": "execute_result"
        }
      ],
      "source": [
        "# Can we do better?\n",
        "\n",
        "Image(url= \"https://i.imgur.com/Rx6tN8a.png\")"
      ]
    },
    {
      "cell_type": "code",
      "execution_count": null,
      "metadata": {
        "id": "yvcmNAkWr4rm",
        "outputId": "e5b46232-65aa-47f1-d25c-588af34978d0"
      },
      "outputs": [
        {
          "data": {
            "text/html": [
              "<img src=\"https://i.imgur.com/k6ZTMcm.png\"/>"
            ],
            "text/plain": [
              "<IPython.core.display.Image object>"
            ]
          },
          "execution_count": 164,
          "metadata": {
            "tags": []
          },
          "output_type": "execute_result"
        }
      ],
      "source": [
        "# Overlapping sub-problems: \n",
        "# Why not store solutions to already solved problems in a 2D array of [0...m-1][0...n-1]\n",
        "# Dynamic programming: Recursion + overlapping subproblems\n",
        "\n",
        "# We discussed this in our course when we learn back-propogation in DL.\n",
        "\n",
        "# DONOT need to use recursion also now. Can solve iteratively.\n",
        "\n",
        "Image(url= \"https://i.imgur.com/k6ZTMcm.png\")\n"
      ]
    },
    {
      "cell_type": "code",
      "execution_count": null,
      "metadata": {
        "id": "aKlHBQxbr4rn"
      },
      "outputs": [],
      "source": [
        "# Source: https://leetcode.com/problems/wildcard-matching/solution/\n",
        "# GIVEN THE ABOVE INUTITON, READING THIS CODE SHOULD BE STRAIGHT FORWARD\n",
        "# Time Complx: O(m*n).\n",
        "\n",
        "# Exercise: Go through this code line by line while keeping the logic in mind!\n",
        "\n",
        "def isMatchDP(p,s):\n",
        "    s_len = len(s)\n",
        "    p_len = len(p)\n",
        "        \n",
        "    # base cases\n",
        "    if p == s or p == '*':\n",
        "        return True\n",
        "    if p == '' or s == '':\n",
        "        return False\n",
        "        \n",
        "    # init all matrix except [0][0] element as False\n",
        "    d = [ [False] * (s_len + 1) for _ in range(p_len + 1)]\n",
        "    d[0][0] = True\n",
        "        \n",
        "    # DP compute \n",
        "    for p_idx in range(1, p_len + 1):\n",
        "        \n",
        "        # the current character in the pattern is '*'\n",
        "        if p[p_idx - 1] == '*':\n",
        "            \n",
        "            s_idx = 1\n",
        "            \n",
        "            # d[p_idx - 1][s_idx - 1] is a string-pattern match \n",
        "            # on the previous step, i.e. one character before.\n",
        "            # Find the first idx in string with the previous math. \n",
        "\n",
        "            # p=abcd*  s=abcdefg\n",
        "            while not d[p_idx - 1][s_idx - 1] and s_idx < s_len + 1:\n",
        "                s_idx += 1\n",
        "                \n",
        "            # If (string) matches (pattern), \n",
        "            # when (string) matches (pattern)* as well\n",
        "            d[p_idx][s_idx - 1] = d[p_idx - 1][s_idx - 1]\n",
        "            \n",
        "            # If (string) matches (pattern), \n",
        "            # when (string)(whatever_characters) matches (pattern)* as well\n",
        "            while s_idx < s_len + 1:\n",
        "                d[p_idx][s_idx] = True\n",
        "                s_idx += 1\n",
        "                \n",
        "        # the current character in the pattern is '?'\n",
        "        elif p[p_idx - 1] == '?':\n",
        "            for s_idx in range(1, s_len + 1): \n",
        "                d[p_idx][s_idx] = d[p_idx - 1][s_idx - 1] \n",
        "        \n",
        "        # the current character in the pattern is not '*' or '?'\n",
        "        else:\n",
        "            for s_idx in range(1, s_len + 1): \n",
        "                # Match is possible if there is a previous match\n",
        "                # and current characters are the same\n",
        "                d[p_idx][s_idx] = \\\n",
        "                d[p_idx - 1][s_idx - 1] and p[p_idx - 1] == s[s_idx - 1]  \n",
        "                                                               \n",
        "        return d[p_len][s_len]"
      ]
    },
    {
      "cell_type": "code",
      "execution_count": null,
      "metadata": {
        "id": "55y7pv1Rr4ro",
        "outputId": "eee366bd-5268-45db-9f56-2d1c8e1c8838"
      },
      "outputs": [
        {
          "name": "stdout",
          "output_type": "stream",
          "text": [
            "False\n"
          ]
        }
      ],
      "source": [
        "print(isMatchDP(\"a*\" ,\"ba\"))"
      ]
    },
    {
      "cell_type": "markdown",
      "metadata": {
        "id": "JrtXHRfDr4rp"
      },
      "source": [
        "### Next session: Python's inbuilt data-structures: List, Dict, Set, Tuple "
      ]
    }
  ],
  "metadata": {
    "celltoolbar": "Slideshow",
    "colab": {
      "name": "LIVE_5_Strings_Regexes_II.ipynb",
      "provenance": []
    },
    "kernelspec": {
      "display_name": "Python 3.8.8 64-bit ('abhishek': conda)",
      "name": "python388jvsc74a57bd0ebe9d4e6071804b646b2393dcd8df86c00f94b2c38eb86a97735b4bf75bae947"
    },
    "language_info": {
      "codemirror_mode": {
        "name": "ipython",
        "version": 3
      },
      "file_extension": ".py",
      "mimetype": "text/x-python",
      "name": "python",
      "nbconvert_exporter": "python",
      "pygments_lexer": "ipython3",
      "version": "3.8.8"
    }
  },
  "nbformat": 4,
  "nbformat_minor": 0
}