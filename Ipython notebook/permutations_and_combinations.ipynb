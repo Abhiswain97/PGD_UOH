{
 "cells": [
  {
   "cell_type": "code",
   "execution_count": 1,
   "metadata": {},
   "outputs": [
    {
     "name": "stdout",
     "output_type": "stream",
     "text": [
      "[(1, 2), (1, 3), (2, 3)]\n",
      "[(1, 2), (1, 3), (2, 1), (2, 3), (3, 1), (3, 2)]\n"
     ]
    }
   ],
   "source": [
    "\n",
    "# Using library functions\n",
    "\n",
    "from itertools import permutations, combinations\n",
    "\n",
    "arr = [1, 2, 3]\n",
    "\n",
    "print(list(combinations(arr, r=2)))\n",
    "print(list(permutations(arr, r=2)))\n"
   ]
  },
  {
   "cell_type": "code",
   "execution_count": 2,
   "metadata": {},
   "outputs": [],
   "source": [
    "\n",
    "# from scratch using recursion\n",
    "\n",
    "\n",
    "def permutations(arr):\n",
    "    if len(arr) == 1:\n",
    "        return [arr]\n",
    "\n",
    "    reslist = []\n",
    "    for i in arr:\n",
    "\n",
    "        rem = [x for x in arr if x != i]\n",
    "\n",
    "        z = permutations(rem)\n",
    "\n",
    "        for j in z:\n",
    "            reslist.append([i] + j)\n",
    "\n",
    "    return reslist\n",
    "\n"
   ]
  },
  {
   "cell_type": "code",
   "execution_count": 3,
   "metadata": {},
   "outputs": [
    {
     "data": {
      "text/plain": [
       "[[1, 2, 3], [1, 3, 2], [2, 1, 3], [2, 3, 1], [3, 1, 2], [3, 2, 1]]"
      ]
     },
     "execution_count": 3,
     "metadata": {},
     "output_type": "execute_result"
    }
   ],
   "source": [
    "\n",
    "permutations(arr)"
   ]
  },
  {
   "cell_type": "code",
   "execution_count": null,
   "metadata": {},
   "outputs": [],
   "source": []
  }
 ],
 "metadata": {
  "kernelspec": {
   "display_name": "Python 3",
   "language": "python",
   "name": "python3"
  },
  "language_info": {
   "codemirror_mode": {
    "name": "ipython",
    "version": 3
   },
   "file_extension": ".py",
   "mimetype": "text/x-python",
   "name": "python",
   "nbconvert_exporter": "python",
   "pygments_lexer": "ipython3",
   "version": "3.8.8"
  }
 },
 "nbformat": 4,
 "nbformat_minor": 4
}
