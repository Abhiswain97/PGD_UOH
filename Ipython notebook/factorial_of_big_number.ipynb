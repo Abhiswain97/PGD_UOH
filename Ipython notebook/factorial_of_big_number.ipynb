{
 "cells": [
  {
   "cell_type": "code",
   "execution_count": 2,
   "id": "superb-effort",
   "metadata": {},
   "outputs": [],
   "source": [
    "def multiply(x, arr, size):\n",
    "    carry = 0\n",
    "    for i in range(size):\n",
    "        p = arr[i] * x + carry\n",
    "        arr[i] = p % 10\n",
    "        carry = p // 10\n",
    "\n",
    "    while carry > 0:\n",
    "        arr[size] = carry % 10\n",
    "        carry = carry // 10\n",
    "        size += 1\n",
    "\n",
    "    return size"
   ]
  },
  {
   "cell_type": "code",
   "execution_count": 7,
   "metadata": {},
   "outputs": [],
   "source": [
    "def factorial(n):\n",
    "    a = [1] * 1000\n",
    "    size = 1\n",
    "    for i in range(2, n + 1):\n",
    "        size = multiply(i, a, size)\n",
    "\n",
    "    print(list(reversed(a[:size])))"
   ]
  },
  {
   "cell_type": "code",
   "execution_count": 8,
   "metadata": {},
   "outputs": [
    {
     "output_type": "stream",
     "name": "stdout",
     "text": [
      "[1, 2, 0]\n"
     ]
    }
   ],
   "source": [
    "factorial(5)"
   ]
  },
  {
   "cell_type": "code",
   "execution_count": null,
   "metadata": {},
   "outputs": [],
   "source": []
  }
 ],
 "metadata": {
  "kernelspec": {
   "display_name": "Python 3",
   "language": "python",
   "name": "python3"
  },
  "language_info": {
   "codemirror_mode": {
    "name": "ipython",
    "version": 3
   },
   "file_extension": ".py",
   "mimetype": "text/x-python",
   "name": "python",
   "nbconvert_exporter": "python",
   "pygments_lexer": "ipython3",
   "version": "3.8.8-final"
  }
 },
 "nbformat": 4,
 "nbformat_minor": 5
}