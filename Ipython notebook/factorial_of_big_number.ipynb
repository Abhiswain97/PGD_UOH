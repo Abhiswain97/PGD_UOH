{
 "cells": [
  {
   "cell_type": "code",
   "execution_count": 11,
   "id": "superb-effort",
   "metadata": {},
   "outputs": [],
   "source": [
    "def multiply(x, arr, size):\n",
    "    carry = 0\n",
    "    for i in range(size):\n",
    "        p = arr[i] * x + carry\n",
    "        arr[i] = p % 10\n",
    "        carry = p // 10\n",
    "\n",
    "    while carry > 0:\n",
    "        arr[size] = carry % 10\n",
    "        carry = carry // 10\n",
    "        size += 1\n",
    "\n",
    "    return size"
   ]
  },
  {
   "cell_type": "code",
   "execution_count": 12,
   "metadata": {},
   "outputs": [],
   "source": [
    "def factorial(n):\n",
    "    a = [1] * 1000\n",
    "    size = 1\n",
    "    for i in range(2, n + 1):\n",
    "        size = multiply(i, a, size)\n",
    "\n",
    "    print(list(reversed(a[:size])))"
   ]
  },
  {
   "cell_type": "code",
   "execution_count": 19,
   "metadata": {},
   "outputs": [
    {
     "output_type": "stream",
     "name": "stdout",
     "text": [
      "[6, 6, 8, 9, 5, 0, 2, 9, 1, 3, 4, 4, 9, 1, 2, 7, 0, 5, 7, 5, 8, 8, 1, 1, 8, 0, 5, 4, 0, 9, 0, 3, 7, 2, 5, 8, 6, 7, 5, 2, 7, 4, 6, 3, 3, 3, 1, 3, 8, 0, 2, 9, 8, 1, 0, 2, 9, 5, 6, 7, 1, 3, 5, 2, 3, 0, 1, 6, 3, 3, 5, 5, 7, 2, 4, 4, 9, 6, 2, 9, 8, 9, 3, 6, 6, 8, 7, 4, 1, 6, 5, 2, 7, 1, 9, 8, 4, 9, 8, 1, 3, 0, 8, 1, 5, 7, 6, 3, 7, 8, 9, 3, 2, 1, 4, 0, 9, 0, 5, 5, 2, 5, 3, 4, 4, 0, 8, 5, 8, 9, 4, 0, 8, 1, 2, 1, 8, 5, 9, 8, 9, 8, 4, 8, 1, 1, 1, 4, 3, 8, 9, 6, 5, 0, 0, 0, 5, 9, 6, 4, 9, 6, 0, 5, 2, 1, 2, 5, 6, 9, 6, 0, 0, 0, 0, 0, 0, 0, 0, 0, 0, 0, 0, 0, 0, 0, 0, 0, 0, 0, 0, 0, 0, 0, 0, 0, 0, 0, 0]\n"
     ]
    }
   ],
   "source": [
    "factorial(120)"
   ]
  },
  {
   "cell_type": "code",
   "execution_count": null,
   "metadata": {},
   "outputs": [],
   "source": []
  }
 ],
 "metadata": {
  "kernelspec": {
   "display_name": "Python 3",
   "language": "python",
   "name": "python3"
  },
  "language_info": {
   "codemirror_mode": {
    "name": "ipython",
    "version": 3
   },
   "file_extension": ".py",
   "mimetype": "text/x-python",
   "name": "python",
   "nbconvert_exporter": "python",
   "pygments_lexer": "ipython3",
   "version": "3.8.8-final"
  }
 },
 "nbformat": 4,
 "nbformat_minor": 5
}