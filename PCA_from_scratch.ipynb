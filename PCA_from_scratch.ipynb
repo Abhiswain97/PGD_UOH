{
 "cells": [
  {
   "cell_type": "code",
   "execution_count": 36,
   "id": "d6262a63-e71d-4761-b71e-4a8bfe9cf668",
   "metadata": {},
   "outputs": [],
   "source": [
    "from sklearn.datasets import load_wine\n",
    "from sklearn.preprocessing import StandardScaler\n",
    "import numpy as np\n",
    "from scipy.linalg import eigh\n",
    "import seaborn as sns"
   ]
  },
  {
   "cell_type": "code",
   "execution_count": 37,
   "id": "72d51fe3-4269-47b5-9645-f134d58ab135",
   "metadata": {},
   "outputs": [],
   "source": [
    "ds = load_wine()"
   ]
  },
  {
   "cell_type": "code",
   "execution_count": 38,
   "id": "1f78f95c-a41a-4feb-9961-efcbc7aa15b3",
   "metadata": {},
   "outputs": [],
   "source": [
    "data = ds['data']"
   ]
  },
  {
   "cell_type": "code",
   "execution_count": 39,
   "id": "9faf0f09-8269-4c71-9e44-cb79a8903001",
   "metadata": {},
   "outputs": [],
   "source": [
    "labels = ds['target']"
   ]
  },
  {
   "cell_type": "code",
   "execution_count": 40,
   "id": "9df84a3e-8938-476e-9ff2-ee8e8e09cbcc",
   "metadata": {},
   "outputs": [],
   "source": [
    "ss = StandardScaler()"
   ]
  },
  {
   "cell_type": "code",
   "execution_count": 41,
   "id": "208fb35a-158b-42a8-83a3-c1bfc5cceb84",
   "metadata": {},
   "outputs": [
    {
     "data": {
      "text/plain": [
       "(178, 13)"
      ]
     },
     "execution_count": 41,
     "metadata": {},
     "output_type": "execute_result"
    }
   ],
   "source": [
    "data.shape"
   ]
  },
  {
   "cell_type": "code",
   "execution_count": 42,
   "id": "45302d94-74a3-46fe-b1a2-12efb160bda8",
   "metadata": {},
   "outputs": [],
   "source": [
    "data = ss.fit_transform(data)"
   ]
  },
  {
   "cell_type": "code",
   "execution_count": 45,
   "id": "de0a7cd5-5000-4527-9f5a-6dc2b8a9fb8f",
   "metadata": {},
   "outputs": [],
   "source": [
    "S = np.matmul(data.T, data)"
   ]
  },
  {
   "cell_type": "code",
   "execution_count": 47,
   "id": "312e1d9b-4c3b-4132-b4c2-b47acdc0a5eb",
   "metadata": {},
   "outputs": [
    {
     "data": {
      "text/plain": [
       "(13, 13)"
      ]
     },
     "execution_count": 47,
     "metadata": {},
     "output_type": "execute_result"
    }
   ],
   "source": [
    "S.shape"
   ]
  },
  {
   "cell_type": "code",
   "execution_count": 48,
   "id": "891d8764-857f-4434-a271-f381a629fee9",
   "metadata": {},
   "outputs": [],
   "source": [
    "values, vectors = eigh(S)"
   ]
  },
  {
   "cell_type": "code",
   "execution_count": 49,
   "id": "62e99bbb-872e-4f10-8542-48e7f079a5f5",
   "metadata": {},
   "outputs": [
    {
     "data": {
      "text/plain": [
       "array([ 18.40127255,  30.0411018 ,  40.19037787,  44.66064183,\n",
       "        51.42062979,  62.03253067,  98.08303953, 114.21495161,\n",
       "       151.87461575, 163.57735843, 257.40081061, 444.46132455,\n",
       "       837.64134503])"
      ]
     },
     "execution_count": 49,
     "metadata": {},
     "output_type": "execute_result"
    }
   ],
   "source": [
    "values"
   ]
  },
  {
   "cell_type": "code",
   "execution_count": 51,
   "id": "1198933f-5fa9-4853-b45f-e4348a5a1e86",
   "metadata": {},
   "outputs": [
    {
     "data": {
      "text/plain": [
       "(13, 13)"
      ]
     },
     "execution_count": 51,
     "metadata": {},
     "output_type": "execute_result"
    }
   ],
   "source": [
    "vectors.shape"
   ]
  },
  {
   "cell_type": "code",
   "execution_count": 54,
   "id": "3787803c-4754-427b-a727-44ad5e385e3f",
   "metadata": {},
   "outputs": [],
   "source": [
    "top_two = vectors[:, 11:13]"
   ]
  },
  {
   "cell_type": "code",
   "execution_count": 56,
   "id": "5e7fd91b-1729-4403-a214-65796aeb1728",
   "metadata": {},
   "outputs": [
    {
     "data": {
      "text/plain": [
       "(13, 2)"
      ]
     },
     "execution_count": 56,
     "metadata": {},
     "output_type": "execute_result"
    }
   ],
   "source": [
    "top_two.shape"
   ]
  },
  {
   "cell_type": "code",
   "execution_count": 61,
   "id": "877fcbb6-f5ff-4b40-bde0-c6d993b5e4d8",
   "metadata": {},
   "outputs": [
    {
     "data": {
      "text/plain": [
       "(178, 2)"
      ]
     },
     "execution_count": 61,
     "metadata": {},
     "output_type": "execute_result"
    }
   ],
   "source": [
    "np.matmul(data, top_two).shape"
   ]
  },
  {
   "cell_type": "code",
   "execution_count": null,
   "id": "33f2862e-dbf9-48cb-ad9c-9ff85b1e4e2f",
   "metadata": {},
   "outputs": [],
   "source": []
  }
 ],
 "metadata": {
  "kernelspec": {
   "display_name": "Python 3",
   "language": "python",
   "name": "python3"
  },
  "language_info": {
   "codemirror_mode": {
    "name": "ipython",
    "version": 3
   },
   "file_extension": ".py",
   "mimetype": "text/x-python",
   "name": "python",
   "nbconvert_exporter": "python",
   "pygments_lexer": "ipython3",
   "version": "3.8.8"
  }
 },
 "nbformat": 4,
 "nbformat_minor": 5
}
