{
 "cells": [
  {
   "cell_type": "code",
   "execution_count": 2,
   "id": "0ab9b39b",
   "metadata": {},
   "outputs": [],
   "source": [
    "#include<iostream>\n",
    "#include<algorithm>\n",
    "#include<vector>\n",
    "#include<numeric>\n",
    "#include<cmath>\n",
    "\n",
    "template<typename T>\n",
    "double mean(std::vector<T>& v){\n",
    "    const double sum = std::accumulate(v.begin(), v.end(), 0.0);\n",
    "    return sum / v.size();\n",
    "}\n",
    "\n",
    "double median(std::vector<double>& v) {\n",
    "    sort(v.begin(), v.end());\n",
    "\n",
    "    if (v.size() % 2 != 0)\n",
    "        return v[v.size()/2 - 1];\n",
    "    else\n",
    "        return (v[v.size()/2 - 1] + v[v.size()/2])/2; \n",
    "}\n",
    "\n",
    "double variance(std::vector<double>& v){\n",
    "    const double m = mean(v);\n",
    "    double variance = 0.0;\n",
    "\n",
    "    /* \n",
    "        Finding the variance:\n",
    "        Var(v) = sum(\n",
    "            (x_i - mean(v))^2\n",
    "        )\n",
    "        where, 0 <= i <= v.size()\n",
    "    */\n",
    "    std::for_each(v.begin(), v.end(), [&](const double x) { \n",
    "        variance += pow((x - m), 2);  \n",
    "    });\n",
    "\n",
    "    return variance / v.size();\n",
    "}\n",
    "\n",
    "double std_deviation(std::vector<double>& v) {\n",
    "\n",
    "    // Standard deviation is just sqrt(Var(v))\n",
    "    return std::sqrt(variance(v));\n",
    "}\n",
    "\n",
    "double mean_absolute_deviation(std::vector<double>& v) {\n",
    "    const double m = median(v);\n",
    "\n",
    "    std::vector<double> var;\n",
    "    /* \n",
    "        Finding the variance:\n",
    "        Var(v) = median(|x_i - median(v)|)\n",
    "        where, 0 <= i <= v.size()\n",
    "    */\n",
    "    std::for_each(v.begin(), v.end(), [&](const double x) { \n",
    "        var.push_back(std::abs(x - m));  \n",
    "    });\n",
    "\n",
    "    // mean absolute deviation is just median(var)\n",
    "    return median(var);\n",
    "}\n",
    "\n",
    "double nth_percentile_linear(std::vector<double>& v, int n){\n",
    "\n",
    "    /*\n",
    "        This is percentile found using `linear` interpolation\n",
    "\n",
    "        v.sort()\n",
    "        \n",
    "        x = ((n/100) * (v.size() - 1)) + 1 \n",
    "\n",
    "        i_p = floor(x)\n",
    "        d_p = x % 1 (or x - v2)\n",
    "\n",
    "        The equation is:\n",
    "            v_p = v[i_p] + d_p * (v[i_p + 1] - v2[i_p])\n",
    "    */\n",
    "\n",
    "    sort(v.begin(), v.end());\n",
    "\n",
    "    double x = (n/100.0) * (v.size() - 1) + 1;\n",
    "\n",
    "    int int_part = floor(x);\n",
    "    double decimal_part = x - int_part;\n",
    "\n",
    "    return v[int_part - 1] + decimal_part * ( v[int_part] - v[int_part -1 ]);\n",
    "}\n",
    "\n",
    "double IQR(std::vector<double>& v){ \n",
    "    return nth_percentile_linear(v, 75) - nth_percentile_linear(v, 25);\n",
    "}"
   ]
  },
  {
   "cell_type": "code",
   "execution_count": 3,
   "id": "5591e2c8",
   "metadata": {},
   "outputs": [],
   "source": [
    "std::vector<double> v = {1, 2, 3, 4, 5, 6};"
   ]
  },
  {
   "cell_type": "code",
   "execution_count": 4,
   "id": "e519c255",
   "metadata": {},
   "outputs": [
    {
     "data": {
      "text/plain": [
       "{ 1.0000000, 2.0000000, 3.0000000, 4.0000000, 5.0000000, 6.0000000 }"
      ]
     },
     "execution_count": 4,
     "metadata": {},
     "output_type": "execute_result"
    }
   ],
   "source": [
    "v"
   ]
  },
  {
   "cell_type": "code",
   "execution_count": 5,
   "id": "3b7ac2a0",
   "metadata": {},
   "outputs": [
    {
     "data": {
      "text/plain": [
       "3.5000000"
      ]
     },
     "execution_count": 5,
     "metadata": {},
     "output_type": "execute_result"
    }
   ],
   "source": [
    "median(v)"
   ]
  },
  {
   "cell_type": "code",
   "execution_count": 6,
   "id": "f2f74712",
   "metadata": {},
   "outputs": [
    {
     "data": {
      "text/plain": [
       "3.5000000"
      ]
     },
     "execution_count": 6,
     "metadata": {},
     "output_type": "execute_result"
    }
   ],
   "source": [
    "mean(v)"
   ]
  },
  {
   "cell_type": "code",
   "execution_count": 7,
   "id": "559cc81e",
   "metadata": {},
   "outputs": [
    {
     "data": {
      "text/plain": [
       "2.9166667"
      ]
     },
     "execution_count": 7,
     "metadata": {},
     "output_type": "execute_result"
    }
   ],
   "source": [
    "variance(v)"
   ]
  },
  {
   "cell_type": "code",
   "execution_count": 8,
   "id": "13c02a29",
   "metadata": {},
   "outputs": [
    {
     "data": {
      "text/plain": [
       "1.7078251"
      ]
     },
     "execution_count": 8,
     "metadata": {},
     "output_type": "execute_result"
    }
   ],
   "source": [
    "std_deviation(v)"
   ]
  },
  {
   "cell_type": "code",
   "execution_count": 9,
   "id": "b045e7c6",
   "metadata": {},
   "outputs": [
    {
     "data": {
      "text/plain": [
       "1.5000000"
      ]
     },
     "execution_count": 9,
     "metadata": {},
     "output_type": "execute_result"
    }
   ],
   "source": [
    "mean_absolute_deviation(v)"
   ]
  },
  {
   "cell_type": "markdown",
   "id": "07637067",
   "metadata": {},
   "source": [
    "## Calculate nth percentile: \n",
    "\n",
    "This uses linear interpolation.\n",
    "\n",
    "$\\large v$ is a sorted sequence, \n",
    "\n",
    "$\\large x = \\frac{n}{100} * (size(v) - 1) + 1$\n",
    "\n",
    "The equation is: \n",
    "$ \\large v(x)=v_{\\lfloor x\\rfloor }+(x\\%1)(v_{\\lfloor x\\rfloor +1}-v_{\\lfloor x\\rfloor })$\n",
    "\n",
    "You can read more about it: [here](https://en.wikipedia.org/wiki/Percentile#Second_variant,_%7F'%22%60UNIQ--postMath-0000004A-QINU%60%22'%7F)"
   ]
  },
  {
   "cell_type": "code",
   "execution_count": 12,
   "id": "0e9091cf",
   "metadata": {},
   "outputs": [
    {
     "data": {
      "text/plain": [
       "5.5000000"
      ]
     },
     "execution_count": 12,
     "metadata": {},
     "output_type": "execute_result"
    }
   ],
   "source": [
    "nth_percentile_linear(v, 90)"
   ]
  },
  {
   "cell_type": "code",
   "execution_count": 13,
   "id": "413ead15",
   "metadata": {},
   "outputs": [
    {
     "data": {
      "text/plain": [
       "5.9500000"
      ]
     },
     "execution_count": 13,
     "metadata": {},
     "output_type": "execute_result"
    }
   ],
   "source": [
    "nth_percentile_linear(v, 99)"
   ]
  },
  {
   "cell_type": "code",
   "execution_count": 14,
   "id": "f88df583",
   "metadata": {},
   "outputs": [
    {
     "data": {
      "text/plain": [
       "2.5000000"
      ]
     },
     "execution_count": 14,
     "metadata": {},
     "output_type": "execute_result"
    }
   ],
   "source": [
    "IQR(v)"
   ]
  }
 ],
 "metadata": {
  "kernelspec": {
   "display_name": "C++14",
   "language": "C++14",
   "name": "xcpp14"
  },
  "language_info": {
   "codemirror_mode": "text/x-c++src",
   "file_extension": ".cpp",
   "mimetype": "text/x-c++src",
   "name": "c++",
   "version": "14"
  }
 },
 "nbformat": 4,
 "nbformat_minor": 5
}
