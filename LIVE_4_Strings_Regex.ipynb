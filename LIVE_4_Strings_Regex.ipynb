{
  "nbformat": 4,
  "nbformat_minor": 0,
  "metadata": {
    "kernelspec": {
      "display_name": "Python 3",
      "language": "python",
      "name": "python3"
    },
    "language_info": {
      "codemirror_mode": {
        "name": "ipython",
        "version": 3
      },
      "file_extension": ".py",
      "mimetype": "text/x-python",
      "name": "python",
      "nbconvert_exporter": "python",
      "pygments_lexer": "ipython3",
      "version": "3.7.3"
    },
    "colab": {
      "name": "LIVE_4_Strings_Regex.ipynb",
      "provenance": []
    }
  },
  "cells": [
    {
      "cell_type": "markdown",
      "metadata": {
        "id": "1PcZWv7GT6_o"
      },
      "source": [
        "## LIVE 4: Strings and Regex \n",
        " - Focus: Basics of strings and regex in Python + Simple problem solving. \n",
        " - Prereq: Basic knowledge of Strings and Regex in Python + previous code-sessions.\n",
        " - Reference for basics: \n",
        "     - https://docs.python.org/3/howto/regex.html\n",
        "     - https://docs.python.org/3/library/re.html\n",
        "     - https://www.w3schools.com/python/python_strings.asp\n",
        "     - https://www.geeksforgeeks.org/python-strings/\n",
        "     "
      ]
    },
    {
      "cell_type": "markdown",
      "metadata": {
        "id": "kOEjrz1ET6_u"
      },
      "source": [
        "## Quick recap of Regex in Python\n",
        "- Go through multiple examples to understand regex better\n",
        "- Key life-skill: learn from resources on the internet.\n",
        "- https://docs.python.org/3/howto/regex.html\n",
        "- https://www.w3schools.com/python/python_regex.asp\n",
        "- https://www.tutorialspoint.com/python/python_reg_expressions.htm\n"
      ]
    },
    {
      "cell_type": "markdown",
      "metadata": {
        "id": "gNllX1x3T6_u"
      },
      "source": [
        "## Problem-1: Mask personal information in email and phone numbers"
      ]
    },
    {
      "cell_type": "markdown",
      "metadata": {
        "id": "y79r4qXzT6_v"
      },
      "source": [
        "- Email: xxxxxxxxx@aaaa.zzzz\n",
        "    - Masked:x#####x@aaaa.zzzz [FIVE # between first and last char of the name]  \n",
        "    \n",
        "    <br>\n",
        "    \n",
        "- Phone:  digits 0-9 or any of the characters from  { '-', '(', ')', ' '} \n",
        "    - Example: 1(234)567-890   --> ###-###-7890\"\n",
        "    "
      ]
    },
    {
      "cell_type": "code",
      "metadata": {
        "id": "NCl1FkcjT6_v",
        "outputId": "838edb43-0327-42e0-ad4a-97130292ea50"
      },
      "source": [
        "# email-masking\n",
        "s = \"abcd@efgh.com\";\n",
        "\n",
        "#output: a#####d@efgh.com\n",
        "# Any suggestions?\n",
        "#\n",
        "#\n",
        "#\n",
        "#\n",
        "#\n",
        "#\n",
        "#\n",
        "#\n",
        "#\n",
        "#\n",
        "#\n",
        "#\n",
        "#\n",
        "#\n",
        "#\n",
        "#\n",
        "#\n",
        "#\n",
        "#\n",
        "#\n",
        "#\n",
        "#\n",
        "#\n",
        "#\n",
        "#\n",
        "#\n",
        "#\n",
        "#\n",
        "#\n",
        "#\n",
        "#\n",
        "#\n",
        "#\n",
        "#\n",
        "#\n",
        "#\n",
        "#\n",
        "#\n",
        "\n",
        "#simple string formatting : https://www.programiz.com/python-programming/methods/string/format\n",
        "\n",
        "from IPython.display import Image\n",
        "Image(url= \"https://cdn.programiz.com/sites/tutorial2program/files/python-format-positional-argument.jpg\")\n",
        "\n"
      ],
      "execution_count": null,
      "outputs": [
        {
          "output_type": "execute_result",
          "data": {
            "text/html": [
              "<img src=\"https://cdn.programiz.com/sites/tutorial2program/files/python-format-positional-argument.jpg\"/>"
            ],
            "text/plain": [
              "<IPython.core.display.Image object>"
            ]
          },
          "metadata": {
            "tags": []
          },
          "execution_count": 13
        }
      ]
    },
    {
      "cell_type": "code",
      "metadata": {
        "id": "DiaGdbMbT6_w",
        "outputId": "9f895d36-3be3-4c59-fde6-d943c5436181"
      },
      "source": [
        "# boundary case: check if email or not\n",
        "s = \"abcd@efgh.com\";\n",
        "\n",
        "def maskEmail(s):\n",
        "    if '@' in s: \n",
        "        name, domain = s.split('@')\n",
        "        return (\"{0}#####{1}@{2}\".format(name[0], name[-1], domain));\n",
        "\n",
        "print(maskEmail(s))"
      ],
      "execution_count": null,
      "outputs": [
        {
          "output_type": "stream",
          "text": [
            "a#####d@efgh.com\n"
          ],
          "name": "stdout"
        }
      ]
    },
    {
      "cell_type": "code",
      "metadata": {
        "id": "jmaj3lkJT6_x",
        "outputId": "e4ac9150-c1c6-4292-dd88-66102acf30ce"
      },
      "source": [
        "# BOUDNARY CASE: a@bcdef.com\n",
        "print(maskEmail(\"a@bcdef.com\"))"
      ],
      "execution_count": null,
      "outputs": [
        {
          "output_type": "stream",
          "text": [
            "a#####a@bcdef.com\n"
          ],
          "name": "stdout"
        }
      ]
    },
    {
      "cell_type": "code",
      "metadata": {
        "id": "8qZwvnPaT6_x",
        "outputId": "afe55c4e-042b-4625-ac6d-8f4511d9f74c"
      },
      "source": [
        "# BOUDNARY CASE: abcd.com\n",
        "print(maskEmail(\"abcd.com\"))"
      ],
      "execution_count": null,
      "outputs": [
        {
          "output_type": "stream",
          "text": [
            "None\n"
          ],
          "name": "stdout"
        }
      ]
    },
    {
      "cell_type": "code",
      "metadata": {
        "id": "l1du9fDsT6_x",
        "outputId": "b04b28f4-9e72-4d48-a321-95a0dacae04c"
      },
      "source": [
        "# BOUDNARY CASE: abcd@cdef\n",
        "print(maskEmail(\"abcd@cdef\"))"
      ],
      "execution_count": null,
      "outputs": [
        {
          "output_type": "stream",
          "text": [
            "a#####d@cdef\n"
          ],
          "name": "stdout"
        }
      ]
    },
    {
      "cell_type": "code",
      "metadata": {
        "id": "7rFPiM_ST6_y",
        "outputId": "e98508cb-19cb-4318-c082-190b2c8cffeb"
      },
      "source": [
        "# Check if email is valid is another function.\n",
        "# Any suggestions?\n",
        "#\n",
        "#\n",
        "#\n",
        "#\n",
        "#\n",
        "#\n",
        "#\n",
        "#\n",
        "#\n",
        "#\n",
        "#\n",
        "#\n",
        "#\n",
        "#\n",
        "#\n",
        "#\n",
        "#\n",
        "#\n",
        "#\n",
        "#\n",
        "#\n",
        "#\n",
        "#\n",
        "#\n",
        "#\n",
        "#\n",
        "#\n",
        "#\n",
        "#\n",
        "#\n",
        "#\n",
        "#\n",
        "#\n",
        "#\n",
        "#\n",
        "#\n",
        "#\n",
        "#\n",
        "import re\n",
        "def isValidEmail(s):\n",
        "    #refer:https://www.w3schools.com/python/python_regex.asp for regex syntax\n",
        "    #https://docs.python.org/2/library/re.html\n",
        "    \n",
        "    res = re.search('^\\w+([\\.-]?\\w+)*@\\w+([\\.-]?\\w+)*(\\.\\w{2,3})+$', s, re.IGNORECASE)   #https://www.geeksforgeeks.org/check-if-email-address-valid-or-not-in-python/   \n",
        "    print(res)\n",
        "    \n",
        "    if(res):\n",
        "        return True;\n",
        "    else:\n",
        "        return False;\n",
        "\n",
        "print(isValidEmail(\"abcd@cdef\"))"
      ],
      "execution_count": null,
      "outputs": [
        {
          "output_type": "stream",
          "text": [
            "None\n",
            "False\n"
          ],
          "name": "stdout"
        }
      ]
    },
    {
      "cell_type": "code",
      "metadata": {
        "id": "xOG7RqsYT6_y",
        "outputId": "ce151878-c35f-4247-dd91-cd962a0c6220"
      },
      "source": [
        "print(isValidEmail(\"abcd@cdef.c\"))"
      ],
      "execution_count": null,
      "outputs": [
        {
          "output_type": "stream",
          "text": [
            "None\n",
            "False\n"
          ],
          "name": "stdout"
        }
      ]
    },
    {
      "cell_type": "code",
      "metadata": {
        "id": "qGNCCPkQT6_y",
        "outputId": "95794fe2-6bff-4ce1-ff29-abfc4c490e05"
      },
      "source": [
        "print(isValidEmail(\"a@cdef.com\"))"
      ],
      "execution_count": null,
      "outputs": [
        {
          "output_type": "stream",
          "text": [
            "<re.Match object; span=(0, 10), match='a@cdef.com'>\n",
            "True\n"
          ],
          "name": "stdout"
        }
      ]
    },
    {
      "cell_type": "code",
      "metadata": {
        "id": "j_HgfdQsT6_z",
        "outputId": "478c58e4-28d9-4c60-b2c5-26e001ea84f6"
      },
      "source": [
        "print(isValidEmail(\"abcd@iisc.ac.in\"))"
      ],
      "execution_count": null,
      "outputs": [
        {
          "output_type": "stream",
          "text": [
            "<re.Match object; span=(0, 15), match='abcd@iisc.ac.in'>\n",
            "True\n"
          ],
          "name": "stdout"
        }
      ]
    },
    {
      "cell_type": "code",
      "metadata": {
        "id": "Ms3iysbYT6_z",
        "outputId": "7edb443f-0b60-47e5-f118-33d5785b913a"
      },
      "source": [
        "regex = '^\\w+([\\.-]?\\w+)*@\\w+([\\.-]?\\w+)*(\\.\\w{2,3})+$' # highly non-readbale code\n",
        "\n",
        "#https://docs.python.org/2/library/re.html\n",
        "regex_verbose = re.compile(r\"\"\"                  # VERY readable and easy to understand. Software maintanability.\n",
        "            ^\\w+([\\.-]?\\w+)*              # start, \\w+, \n",
        "            @                             # single @ sign \n",
        "            \\w+([\\.-]?\\w+)*               # Domain name \n",
        "            (\\.\\w{2,3})+$                 # .com, .ac.in,    \n",
        "             \"\"\",re.VERBOSE | re.IGNORECASE)          \n",
        "\n",
        "\n",
        "res = regex_verbose.match(\"abcd@iisc.ac.in\");\n",
        "\n",
        "print(res.string)\n",
        "print(res)"
      ],
      "execution_count": null,
      "outputs": [
        {
          "output_type": "stream",
          "text": [
            "abcd@iisc.ac.in\n",
            "<re.Match object; span=(0, 15), match='abcd@iisc.ac.in'>\n"
          ],
          "name": "stdout"
        }
      ]
    },
    {
      "cell_type": "code",
      "metadata": {
        "id": "wQ6hKdgMT6_z",
        "outputId": "bac8491b-e8c0-42ac-bfa0-211ad41065a5"
      },
      "source": [
        "# PHONE NUMBER MASKING\n",
        "#Example: 1(234)567-890 --> ###-###-7890\"\n",
        "\n",
        "\n",
        "ph = \"1(234)567-890\"\n",
        "\n",
        "\n",
        "digits = re.sub(\"\\D\", \"\", ph)  # \\D=>non-decimal, re.substitute, https://docs.python.org/3/library/re.html \n",
        "\n",
        "print(digits)\n",
        "    \n",
        "masked =  \"###-###-{}\".format(digits[-4:])\n",
        "print(masked)\n",
        "\n"
      ],
      "execution_count": null,
      "outputs": [
        {
          "output_type": "stream",
          "text": [
            "1234567890\n",
            "###-###-7890\n"
          ],
          "name": "stdout"
        }
      ]
    },
    {
      "cell_type": "code",
      "metadata": {
        "id": "5VYKgTM3T6_0",
        "outputId": "3e5fef7e-7e7a-4eef-f98f-4f4a045320c2"
      },
      "source": [
        "def maskPhoneNum(ph):\n",
        "    digits = re.sub(\"\\D\", \"\", ph)  # \\D=>non-decimal, re.substitute, https://docs.python.org/3/library/re.html \n",
        "    if len(digits) != 10: # BOUNDARY CASE\n",
        "        return None;\n",
        "    else:\n",
        "        masked =  \"###-###-{}\".format(digits[-4:])\n",
        "        return masked\n",
        "\n",
        "print(maskPhoneNum(\"1(234)567-890\"))\n"
      ],
      "execution_count": null,
      "outputs": [
        {
          "output_type": "stream",
          "text": [
            "###-###-7890\n"
          ],
          "name": "stdout"
        }
      ]
    },
    {
      "cell_type": "markdown",
      "metadata": {
        "id": "nXSnU9HcT6_0"
      },
      "source": [
        "print(maskPhoneNum(\"1(234)567-89\"))"
      ]
    },
    {
      "cell_type": "markdown",
      "metadata": {
        "id": "0r1JtjO4T6_0"
      },
      "source": [
        "#### Exercise:  12 digit phone numbers with 2 digits of ISD  code strtaing with + \n",
        "- e.g: +86-(99)12345678    ---->  (+86)-###-###-5678\n",
        "************\n",
        "************\n",
        "************************\n",
        "************\n",
        "************\n",
        "************\n",
        "************\n"
      ]
    },
    {
      "cell_type": "markdown",
      "metadata": {
        "id": "sx9yGvIJT6_0"
      },
      "source": [
        "## Problem 2: Extract data from a PDF invoice"
      ]
    },
    {
      "cell_type": "markdown",
      "metadata": {
        "id": "JS8bz3QgT6_0"
      },
      "source": [
        "- Given a PDF [https://slicedinvoices.com/pdf/wordpress-pdf-invoice-plugin-sample.pdf], extract predefined key fields from this PDF\n",
        "- Assume the format is fixed.\n"
      ]
    },
    {
      "cell_type": "markdown",
      "metadata": {
        "id": "ny8BXixtT6_1"
      },
      "source": [
        "#### NOTE: Download and save the above PDF as invoice.pdf in the same folder as your iPython notebook for the following code to work\n"
      ]
    },
    {
      "cell_type": "code",
      "metadata": {
        "id": "hG7U5XtnT6_1",
        "outputId": "78615c86-1a3a-464c-eb30-d62cc6b21fe1"
      },
      "source": [
        "# https://realpython.com/pdf-python/#history-of-pypdf-pypdf2-and-pypdf4\n",
        "\n",
        "!pip3 install pyPDF4\n"
      ],
      "execution_count": null,
      "outputs": [
        {
          "output_type": "stream",
          "text": [
            "Collecting pyPDF4\n",
            "\u001b[?25l  Downloading https://files.pythonhosted.org/packages/4f/1f/509b44850c475c101aa5b5c9b81755cedd363389d6fbb5c53be6fa915a61/PyPDF4-1.27.0.tar.gz (63kB)\n",
            "\u001b[K    100% |████████████████████████████████| 71kB 1.5MB/s ta 0:00:011\n",
            "\u001b[?25hBuilding wheels for collected packages: pyPDF4\n",
            "  Building wheel for pyPDF4 (setup.py) ... \u001b[?25ldone\n",
            "\u001b[?25h  Stored in directory: /Users/varma/Library/Caches/pip/wheels/eb/4f/15/c64d533cb496fd874f56045fe30e8cc0ac59f99ecdd718040d\n",
            "Successfully built pyPDF4\n",
            "Installing collected packages: pyPDF4\n",
            "Successfully installed pyPDF4-1.27.0\n"
          ],
          "name": "stdout"
        }
      ]
    },
    {
      "cell_type": "code",
      "metadata": {
        "id": "I8XiERmiT6_1",
        "outputId": "e86e4dcd-c657-4f1c-c9ee-b3fe75c00712"
      },
      "source": [
        "# Google \"pyPDF extract text\" ---> https://www.soudegesu.com/en/post/python/extract-text-from-pdf-with-pypdf2/\n",
        "import PyPDF4\n",
        "\n",
        "FILE_PATH = './invoice.pdf'\n",
        "\n",
        "with open(FILE_PATH, mode='rb') as f:\n",
        "    reader = PyPDF4.PdfFileReader(f)\n",
        "    page = reader.getPage(0)\n",
        "    print(page.extractText())\n"
      ],
      "execution_count": null,
      "outputs": [
        {
          "output_type": "stream",
          "text": [
            "Invoice\n",
            "Payment is due within 30 days from date of invoice. Late payment is subject to fees of 5% per month.\n",
            "Thanks for choosing \n",
            "DEMO - Sliced Invoices\n",
            " | \n",
            "admin@slicedinvoices.com\n",
            "Page 1/1\n",
            "From:\n",
            "DEMO - Sliced Invoices\n",
            "Suite 5A-1204\n",
            "123 Somewhere Street\n",
            "Your City AZ 12345\n",
            "admin@slicedinvoices.com\n",
            "Invoice Number\n",
            "INV-3337\n",
            "Order Number\n",
            "12345\n",
            "Invoice Date\n",
            "January 25, 2016\n",
            "Due Date\n",
            "January 31, 2016\n",
            "Total Due\n",
            "$93.50\n",
            "To:\n",
            "Test Business\n",
            "123 Somewhere St\n",
            "Melbourne, VIC 3000\n",
            "test@test.com\n",
            "Hrs/Qty\n",
            "Service\n",
            "Rate/Price\n",
            "Adjust\n",
            "Sub Total\n",
            "1.00\n",
            "Web Design\n",
            "This is a sample description...\n",
            "$85.00\n",
            "0.00%\n",
            "$85.00\n",
            "Sub Total\n",
            "$85.00\n",
            "Tax\n",
            "$8.50\n",
            "Total\n",
            "$93.50\n",
            "ANZ Bank\n",
            "ACC # 1234 1234\n",
            "BSB # 4321 432\n",
            "Paid\n",
            "\n"
          ],
          "name": "stdout"
        }
      ]
    },
    {
      "cell_type": "code",
      "metadata": {
        "id": "fl_kxU7CT6_1"
      },
      "source": [
        "import PyPDF4\n",
        "\n",
        "FILE_PATH = './invoice.pdf'\n",
        "\n",
        "with open(FILE_PATH, mode='rb') as f:\n",
        "    reader = PyPDF4.PdfFileReader(f)\n",
        "    page = reader.getPage(0)\n",
        "    txt = page.extractText();"
      ],
      "execution_count": null,
      "outputs": []
    },
    {
      "cell_type": "code",
      "metadata": {
        "id": "9hk0sHyeT6_1",
        "outputId": "f7a2c556-0c6e-4311-e36d-773b00a8f877"
      },
      "source": [
        "# extract invoice number\n",
        "\n",
        "m = re.findall(\"INV-[0-9]*\", txt)\n",
        "print(m)\n"
      ],
      "execution_count": null,
      "outputs": [
        {
          "output_type": "stream",
          "text": [
            "['INV-3337']\n"
          ],
          "name": "stdout"
        }
      ]
    },
    {
      "cell_type": "code",
      "metadata": {
        "id": "7eLqQ-dwT6_2",
        "outputId": "fc302b10-3c88-4f13-bae4-e850d6ef7a8d"
      },
      "source": [
        "# extract amounts\n",
        "m = re.findall(\"$[0-9]*\\.[0-9]*\", txt)\n",
        "print(m)\n"
      ],
      "execution_count": null,
      "outputs": [
        {
          "output_type": "stream",
          "text": [
            "[]\n"
          ],
          "name": "stdout"
        }
      ]
    },
    {
      "cell_type": "code",
      "metadata": {
        "id": "bCl8wf54T6_2"
      },
      "source": [
        ""
      ],
      "execution_count": null,
      "outputs": []
    },
    {
      "cell_type": "code",
      "metadata": {
        "id": "KI9jvNeUT6_2",
        "outputId": "ddddfa1a-d1fc-49c8-e994-a03558e70de0"
      },
      "source": [
        "\n",
        "# extract amounts\n",
        "m = re.findall(\"\\$[0-9]*\\.[0-9]*\", txt)\n",
        "print(m)\n"
      ],
      "execution_count": null,
      "outputs": [
        {
          "output_type": "stream",
          "text": [
            "['$93.50', '$85.00', '$85.00', '$85.00', '$8.50', '$93.50']\n"
          ],
          "name": "stdout"
        }
      ]
    },
    {
      "cell_type": "markdown",
      "metadata": {
        "id": "PdGPSLWwT6_2"
      },
      "source": [
        "*********\n",
        "*********\n",
        "*********\n",
        "*********\n",
        "*********\n",
        "******************\n",
        "*********\n",
        "*********\n",
        "******************\n",
        "*********\n"
      ]
    },
    {
      "cell_type": "code",
      "metadata": {
        "id": "yTkRWt3kT6_2",
        "outputId": "8a1999aa-0791-4ddb-8c2f-3cc1c8f46623"
      },
      "source": [
        "# Extract Total Due:\n",
        "m = re.findall(\"Total Due\\$[0-9]*\\.[0-9]*\", txt)\n",
        "print(m)\n",
        "\n"
      ],
      "execution_count": null,
      "outputs": [
        {
          "output_type": "stream",
          "text": [
            "[]\n"
          ],
          "name": "stdout"
        }
      ]
    },
    {
      "cell_type": "code",
      "metadata": {
        "id": "lqJgArXIT6_3",
        "outputId": "6abd62ae-4e41-455c-9f42-10fcda2ba7bd"
      },
      "source": [
        "# Any suggestions?\n",
        "#\n",
        "#\n",
        "#\n",
        "#\n",
        "#\n",
        "#\n",
        "#\n",
        "#\n",
        "#\n",
        "#\n",
        "#\n",
        "#\n",
        "#\n",
        "#\n",
        "#\n",
        "#\n",
        "#\n",
        "#\n",
        "#\n",
        "#\n",
        "#\n",
        "#\n",
        "#\n",
        "#\n",
        "#\n",
        "#\n",
        "#\n",
        "#\n",
        "#\n",
        "#\n",
        "#\n",
        "#\n",
        "#\n",
        "#\n",
        "#\n",
        "#\n",
        "#\n",
        "#\n",
        "# Extract Total Due:\n",
        "m = re.findall(\"Total Due\\n\\$[0-9]*\\.[0-9]*\", txt)\n",
        "print(m)"
      ],
      "execution_count": null,
      "outputs": [
        {
          "output_type": "stream",
          "text": [
            "['Total Due\\n$93.50']\n"
          ],
          "name": "stdout"
        }
      ]
    },
    {
      "cell_type": "code",
      "metadata": {
        "id": "wcSAb2R5T6_3",
        "outputId": "5d5a2eb8-af70-4faa-dd5a-ea508877dc24"
      },
      "source": [
        "print(re.findall(\"\\$[0-9]*\\.[0-9]*\",m[0]))"
      ],
      "execution_count": null,
      "outputs": [
        {
          "output_type": "stream",
          "text": [
            "['$93.50']\n"
          ],
          "name": "stdout"
        }
      ]
    },
    {
      "cell_type": "markdown",
      "metadata": {
        "id": "Bc4Z45zlT6_4"
      },
      "source": [
        "### Ques: How do we handle cases where we want to extract data from multiple invoice formats?\n",
        "\n",
        "\n",
        "#### Assignment: Extract email-addresses from the PDF\n",
        "\n",
        "#### We will continue from here tomorrow. Pelase go through regex- referecnes in detail for tomorrow's session. We will solve a few product based company interview questions."
      ]
    },
    {
      "cell_type": "code",
      "metadata": {
        "id": "lk1rqCFNT6_4"
      },
      "source": [
        ""
      ],
      "execution_count": null,
      "outputs": []
    }
  ]
}