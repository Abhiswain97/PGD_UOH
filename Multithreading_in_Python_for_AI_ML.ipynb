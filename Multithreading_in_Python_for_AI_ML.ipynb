{
  "nbformat": 4,
  "nbformat_minor": 0,
  "metadata": {
    "colab": {
      "name": "Multithreading_in_Python_for_AI_ML.ipynb",
      "provenance": [],
      "collapsed_sections": []
    },
    "kernelspec": {
      "display_name": "Python 3",
      "language": "python",
      "name": "python3"
    },
    "language_info": {
      "codemirror_mode": {
        "name": "ipython",
        "version": 3
      },
      "file_extension": ".py",
      "mimetype": "text/x-python",
      "name": "python",
      "nbconvert_exporter": "python",
      "pygments_lexer": "ipython3",
      "version": "3.7.6"
    }
  },
  "cells": [
    {
      "cell_type": "code",
      "metadata": {
        "id": "BiIrUwlc5vxg"
      },
      "source": [
        "By AppliedAICourse.com"
      ],
      "execution_count": null,
      "outputs": []
    },
    {
      "cell_type": "code",
      "metadata": {
        "colab": {
          "base_uri": "https://localhost:8080/",
          "height": 448
        },
        "id": "BWtzAAvL6DOK",
        "outputId": "87d08196-2e5f-4ca0-fc5e-3a807addff14"
      },
      "source": [
        "# Number of CPUs and Threads in Linux.\n",
        "# Refer: https://linux.die.net/man/1/lscpu\n",
        "!lscpu\n"
      ],
      "execution_count": null,
      "outputs": [
        {
          "output_type": "stream",
          "text": [
            "/bin/sh: lscpu: command not found\r\n"
          ],
          "name": "stdout"
        }
      ]
    },
    {
      "cell_type": "code",
      "metadata": {
        "id": "MI_DzagH430G",
        "outputId": "13c42e9e-7767-40aa-e5af-1f9a9cc27fb7"
      },
      "source": [
        "# for Mac\n",
        "!system_profiler SPHardwareDataType; "
      ],
      "execution_count": null,
      "outputs": [
        {
          "output_type": "stream",
          "text": [
            "Hardware:\r\n",
            "\r\n",
            "    Hardware Overview:\r\n",
            "\r\n",
            "      Model Name: MacBook Pro\r\n",
            "      Model Identifier: MacBookPro15,1\r\n",
            "      Processor Name: 6-Core Intel Core i7\r\n",
            "      Processor Speed: 2.6 GHz\r\n",
            "      Number of Processors: 1\r\n",
            "      Total Number of Cores: 6\r\n",
            "      L2 Cache (per Core): 256 KB\r\n",
            "      L3 Cache: 9 MB\r\n",
            "      Hyper-Threading Technology: Enabled\r\n",
            "      Memory: 16 GB\r\n",
            "      Boot ROM Version: 1037.147.1.0.0 (iBridge: 17.16.16065.0.0,0)\r\n",
            "      Serial Number (system): C02XN307JG5J\r\n",
            "      Hardware UUID: F0006400-93A8-535A-B85D-F101341AAC16\r\n",
            "      Activation Lock Status: Enabled\r\n",
            "\r\n"
          ],
          "name": "stdout"
        }
      ]
    },
    {
      "cell_type": "markdown",
      "metadata": {
        "id": "d6rvY6mU9Ngm"
      },
      "source": [
        "## Mean of 100 Million observations"
      ]
    },
    {
      "cell_type": "code",
      "metadata": {
        "colab": {
          "base_uri": "https://localhost:8080/",
          "height": 34
        },
        "id": "3KofCQBP6zbT",
        "outputId": "53b60bdb-2155-4c3c-c667-b749d19ae9ae"
      },
      "source": [
        "# Generate random 100MM data points \n",
        "import numpy as np\n",
        "n =100000000\n",
        "d = np.random.rand(n)\n",
        "print(d.shape)"
      ],
      "execution_count": null,
      "outputs": [
        {
          "output_type": "stream",
          "text": [
            "(100000000,)\n"
          ],
          "name": "stdout"
        }
      ]
    },
    {
      "cell_type": "code",
      "metadata": {
        "colab": {
          "base_uri": "https://localhost:8080/",
          "height": 51
        },
        "id": "okpN0WRo9qYk",
        "outputId": "e6f38c2a-bab8-4253-9810-e7e9d93132f7"
      },
      "source": [
        "import time\n",
        "def mean():\n",
        "\n",
        "  #Sum using for loops. We can use inbuilt NumPy Sum opeartion for better speed.\n",
        "  sum = 0\n",
        "  n=d.size\n",
        "  for i in range(n):\n",
        "    sum +=d[i]\n",
        "\n",
        "  #Mean\n",
        "  mean = sum/n\n",
        "  return mean\n",
        "\n",
        "\n",
        "#Time the execution\n",
        "start_time = time.time()\n",
        "m = mean() # compute mean of 100MM numbers.\n",
        "end_time = time.time()\n",
        "print (end_time-start_time)\n",
        "print(m)"
      ],
      "execution_count": null,
      "outputs": [
        {
          "output_type": "stream",
          "text": [
            "20.90457510948181\n",
            "0.49994777164597376\n"
          ],
          "name": "stdout"
        }
      ]
    },
    {
      "cell_type": "markdown",
      "metadata": {
        "id": "vic-5rdM-j27"
      },
      "source": [
        "### Multi-Processing Code"
      ]
    },
    {
      "cell_type": "code",
      "metadata": {
        "colab": {
          "base_uri": "https://localhost:8080/",
          "height": 34
        },
        "id": "f4m9X5dw-Pvh",
        "outputId": "1e7f4eb5-2063-41b8-f475-4df24e4a0a88"
      },
      "source": [
        "#Refer: https://docs.python.org/3/library/multiprocessing.html\n",
        "from multiprocessing import Process, Queue\n",
        "import math\n",
        "\n",
        "def mean_MP(s, e, q ):\n",
        "\n",
        "  #Sum using for loops. We can use inbuilt NumPy Sum opeartion for better speed.\n",
        "  sum = 0\n",
        "  for i in range(s,e+1):\n",
        "    sum +=d[i]\n",
        "\n",
        "  #Mean\n",
        "  mean = sum/(e-s+1)\n",
        "  q.put(mean)\n",
        "  return \n",
        "\n",
        "n1 = math.floor(n/2)\n",
        "\n",
        "q = Queue() #Queues are thread and process safe. For communicating between processes and threads.\n",
        "\n",
        "p1 = Process(target=mean_MP, args=(0, n1,q )) \n",
        "p2 = Process(target=mean_MP, args=(n1+1,n-1, q)) \n",
        "\n",
        "\n",
        "#Time the execution\n",
        "start_time = time.time()\n",
        "\n",
        "p1.start()\n",
        "p2.start()\n",
        "\n",
        "p1.join() # Wait till p1 finishes\n",
        "p2.join() \n",
        "\n",
        "m=0;\n",
        "while not q.empty():\n",
        "     m += q.get()\n",
        "\n",
        "m /= 2;\n",
        "    \n",
        "end_time = time.time()\n",
        "print (end_time-start_time)\n",
        "print(m)\n"
      ],
      "execution_count": null,
      "outputs": [
        {
          "output_type": "stream",
          "text": [
            "11.001178979873657\n",
            "0.4999477716457993\n"
          ],
          "name": "stdout"
        }
      ]
    },
    {
      "cell_type": "markdown",
      "metadata": {
        "id": "UvzOlRmA430I"
      },
      "source": [
        "### Multi-Threaded Code"
      ]
    },
    {
      "cell_type": "code",
      "metadata": {
        "id": "ZZ9As0Q-430I",
        "outputId": "0931353a-ef9d-4d86-fd7b-0f9b5395b782"
      },
      "source": [
        "#Refer: https://docs.python.org/3/library/threading.html\n",
        "from threading import Thread\n",
        "\n",
        "\n",
        "means = [0,0];\n",
        "\n",
        "def mean_MT(s, e, threadNum ):\n",
        "\n",
        "  #Sum using for loops. We can use inbuilt NumPy Sum opeartion for better speed.\n",
        "  sum = 0\n",
        "  for i in range(s,e+1):\n",
        "    sum +=d[i]\n",
        "\n",
        "  #Mean\n",
        "  mean = sum/(e-s+1)\n",
        "  means[threadNum] = mean; # means is a shared varibale between the threads\n",
        "\n",
        "  return \n",
        "\n",
        "n1 = math.floor(n/2)\n",
        "\n",
        "t1 = Thread(target=mean_MT, args=(0, n1,0 ))  # Third apram is the thread number\n",
        "t2 = Thread(target=mean_MT, args=(n1+1,n-1,1)) \n",
        "\n",
        "#Time the execution\n",
        "start_time = time.time()\n",
        "\n",
        "t1.start()\n",
        "t2.start()\n",
        "\n",
        "t1.join() # Wait till t1 finishes\n",
        "t2.join() \n",
        "\n",
        "m = (means[0]+means[1])/2\n",
        "    \n",
        "end_time = time.time()\n",
        "print (end_time-start_time)\n",
        "print(m)\n",
        "\n"
      ],
      "execution_count": null,
      "outputs": [
        {
          "output_type": "stream",
          "text": [
            "19.538660049438477\n",
            "0.4999477716457993\n"
          ],
          "name": "stdout"
        }
      ]
    },
    {
      "cell_type": "markdown",
      "metadata": {
        "id": "gJY5ZQc9430J"
      },
      "source": [
        "## Joblib\n"
      ]
    },
    {
      "cell_type": "markdown",
      "metadata": {
        "id": "-wx5fDHq430J"
      },
      "source": [
        "### Caching of function output values"
      ]
    },
    {
      "cell_type": "code",
      "metadata": {
        "id": "4yuJSM_W430J",
        "outputId": "4d8adb63-a056-4306-bfef-b231881da146"
      },
      "source": [
        "\n",
        "#Transparent and fast disk-caching of output value\n",
        "# Refer: https://joblib.readthedocs.io/en/latest/\n",
        "from joblib import Memory\n",
        "cachedir = './'\n",
        "mem = Memory(cachedir)\n",
        "\n",
        "import numpy as np\n",
        "a = np.vander(np.arange(3)).astype(np.float)\n",
        "square = mem.cache(np.square)\n",
        "b = square(a)                                   "
      ],
      "execution_count": null,
      "outputs": [
        {
          "output_type": "stream",
          "text": [
            "________________________________________________________________________________\n",
            "[Memory] Calling square...\n",
            "square(array([[0., 0., 1.],\n",
            "       [1., 1., 1.],\n",
            "       [4., 2., 1.]]))\n",
            "___________________________________________________________square - 0.0s, 0.0min\n"
          ],
          "name": "stdout"
        }
      ]
    },
    {
      "cell_type": "code",
      "metadata": {
        "id": "qXy8AxVi430J"
      },
      "source": [
        "c = square(a)\n",
        "# The above call did not trigger an evaluation"
      ],
      "execution_count": null,
      "outputs": []
    },
    {
      "cell_type": "markdown",
      "metadata": {
        "id": "iKYeQYOn430J"
      },
      "source": [
        "### Simple Parallel programming for Loops"
      ]
    },
    {
      "cell_type": "code",
      "metadata": {
        "id": "DTw7K-uR430K",
        "outputId": "8f478822-58e0-497c-ab21-e8eab666b3ba"
      },
      "source": [
        "# Refer: https://joblib.readthedocs.io/en/latest/generated/joblib.Parallel.html\n",
        "\n",
        "import time\n",
        "from math import sqrt # inbuilt fucntion\n",
        "\n",
        "def f(i):\n",
        "    \n",
        "    # some computations  that take time\n",
        "    x=10000\n",
        "    p =1;\n",
        "    for j in range(x):\n",
        "        for k in range(j):\n",
        "            p *= k\n",
        "    \n",
        "    return sqrt(i ** 2);\n",
        "\n",
        "# Find sqrt of first n numbers\n",
        "n=10;\n",
        "\n",
        "start_time = time.time()\n",
        "\n",
        "for i in range(n):\n",
        "    f(i)\n",
        "\n",
        "end_time = time.time()\n",
        "print (end_time-start_time)"
      ],
      "execution_count": null,
      "outputs": [
        {
          "output_type": "stream",
          "text": [
            "17.116321802139282\n"
          ],
          "name": "stdout"
        }
      ]
    },
    {
      "cell_type": "code",
      "metadata": {
        "id": "JCmBem9x430K",
        "outputId": "92c851c7-fb35-40bd-c3c0-cc1a410fb02e"
      },
      "source": [
        "from joblib import Parallel, delayed\n",
        "\n",
        "start_time = time.time()\n",
        "\n",
        "a = Parallel(n_jobs=2)(delayed(f)(i) for i in range(n)) \n",
        "\n",
        "# Why we need dealyed(): https://stackoverflow.com/questions/42220458/what-does-the-delayed-function-do-when-used-with-joblib-in-python\n",
        "\n",
        "end_time = time.time()\n",
        "print (end_time-start_time)"
      ],
      "execution_count": null,
      "outputs": [
        {
          "output_type": "stream",
          "text": [
            "9.58085012435913\n"
          ],
          "name": "stdout"
        }
      ]
    },
    {
      "cell_type": "code",
      "metadata": {
        "id": "cVQAvTm0430K",
        "outputId": "db8ca3af-ed75-4b39-df52-31c7e730d98e"
      },
      "source": [
        "# Multi threading: GIL is an issue\n",
        "start_time = time.time()\n",
        "\n",
        "a = Parallel(n_jobs=2,prefer=\"threads\")(delayed(f)(i ** 2) for i in range(n))\n",
        "\n",
        "end_time = time.time()\n",
        "print (end_time-start_time)"
      ],
      "execution_count": null,
      "outputs": [
        {
          "output_type": "stream",
          "text": [
            "17.342177867889404\n"
          ],
          "name": "stdout"
        }
      ]
    },
    {
      "cell_type": "code",
      "metadata": {
        "id": "_bbJlCoq430K",
        "outputId": "b6e38ebb-cbcc-40f8-d055-b30e9e38559e"
      },
      "source": [
        "\n",
        "# 6 jobs\n",
        "\n",
        "from joblib import Parallel, delayed\n",
        "\n",
        "start_time = time.time()\n",
        "\n",
        "a = Parallel(n_jobs=6)(delayed(f)(i ** 2) for i in range(n)) \n",
        "\n",
        "# Why we need dealyed(): https://stackoverflow.com/questions/42220458/what-does-the-delayed-function-do-when-used-with-joblib-in-python\n",
        "\n",
        "end_time = time.time()\n",
        "print (end_time-start_time)"
      ],
      "execution_count": null,
      "outputs": [
        {
          "output_type": "stream",
          "text": [
            "4.557589054107666\n"
          ],
          "name": "stdout"
        }
      ]
    },
    {
      "cell_type": "code",
      "metadata": {
        "id": "MsEEx0vq430L"
      },
      "source": [
        ""
      ],
      "execution_count": null,
      "outputs": []
    }
  ]
}