{
 "cells": [
  {
   "cell_type": "code",
   "execution_count": 37,
   "id": "1f0af8b5",
   "metadata": {},
   "outputs": [],
   "source": [
    "from statsmodels.robust import mad\n",
    "import numpy as np\n",
    "import scipy"
   ]
  },
  {
   "cell_type": "code",
   "execution_count": 38,
   "id": "928aea13",
   "metadata": {},
   "outputs": [],
   "source": [
    "a = list(range(1, 7))"
   ]
  },
  {
   "cell_type": "code",
   "execution_count": 39,
   "id": "8a30f9b2",
   "metadata": {},
   "outputs": [
    {
     "data": {
      "text/plain": [
       "[1, 2, 3, 4, 5, 6]"
      ]
     },
     "execution_count": 39,
     "metadata": {},
     "output_type": "execute_result"
    }
   ],
   "source": [
    "a"
   ]
  },
  {
   "cell_type": "code",
   "execution_count": 68,
   "id": "106ee266",
   "metadata": {},
   "outputs": [],
   "source": [
    "import math\n",
    "\n",
    "\n",
    "class Metrics:\n",
    "    def __init__(self, v):\n",
    "        self.v = v\n",
    "        self.size = len(v)\n",
    "\n",
    "    def mean(self):\n",
    "        return sum(self.v) / self.size\n",
    "\n",
    "    def median(self):\n",
    "        self.v.sort()\n",
    "        return (\n",
    "            self.v[self.size // 2]\n",
    "            if len(self.v) % 2 != 0\n",
    "            else Metrics(\n",
    "                [self.v[(self.size // 2) - 1], self.v[(self.size // 2)]]\n",
    "            ).mean()\n",
    "        )\n",
    "\n",
    "    def variance(self):\n",
    "        return (\n",
    "            sum(list(map(lambda x: (x - Metrics(self.v).mean()) ** 2, self.v)))\n",
    "            / self.size\n",
    "        )\n",
    "\n",
    "    def stdev(self):\n",
    "        return math.sqrt(Metrics(self.v).variance())\n",
    "\n",
    "    def mean_absolute_deviation(self):\n",
    "        return Metrics(\n",
    "            list(map(lambda x: abs(x - Metrics(self.v).median()), self.v))\n",
    "        ).median()\n",
    "\n",
    "    def nth_percentile(self, n, interpolation='linear'):\n",
    "        self.v.sort()\n",
    "        \n",
    "        x = (n / 100 * (self.size - 1)) + 1\n",
    "\n",
    "        ipart = math.floor(x)\n",
    "        dpart = x % 1\n",
    "\n",
    "        return self.v[ipart - 1] + dpart * (self.v[ipart] - self.v[ipart - 1])\n",
    "\n",
    "    def IQR(self):\n",
    "        return self.nth_percentile(75) - self.nth_percentile(25)"
   ]
  },
  {
   "cell_type": "code",
   "execution_count": 69,
   "id": "a174324b",
   "metadata": {},
   "outputs": [],
   "source": [
    "f = Metrics(a)"
   ]
  },
  {
   "cell_type": "code",
   "execution_count": 70,
   "id": "3c3a73ff",
   "metadata": {},
   "outputs": [
    {
     "data": {
      "text/plain": [
       "3.5"
      ]
     },
     "execution_count": 70,
     "metadata": {},
     "output_type": "execute_result"
    }
   ],
   "source": [
    "f.mean()"
   ]
  },
  {
   "cell_type": "code",
   "execution_count": 71,
   "id": "d5a4ccd0",
   "metadata": {},
   "outputs": [
    {
     "data": {
      "text/plain": [
       "3.5"
      ]
     },
     "execution_count": 71,
     "metadata": {},
     "output_type": "execute_result"
    }
   ],
   "source": [
    "f.median()"
   ]
  },
  {
   "cell_type": "code",
   "execution_count": 72,
   "id": "437bdac4",
   "metadata": {},
   "outputs": [
    {
     "data": {
      "text/plain": [
       "1.5"
      ]
     },
     "execution_count": 72,
     "metadata": {},
     "output_type": "execute_result"
    }
   ],
   "source": [
    "f.mean_absolute_deviation()"
   ]
  },
  {
   "cell_type": "markdown",
   "id": "d80d12cc",
   "metadata": {},
   "source": [
    "## Calculate nth percentile: \n",
    "\n",
    "This uses linear interpolation.\n",
    "\n",
    "$\\large v$ is a sorted sequence, \n",
    "\n",
    "$\\large x = \\frac{n}{100} * (size(v) - 1) + 1$\n",
    "\n",
    "The equation is: \n",
    "$ \\large v(x)=v_{\\lfloor x\\rfloor }+(x\\%1)(v_{\\lfloor x\\rfloor +1}-v_{\\lfloor x\\rfloor })$\n",
    "\n",
    "You can read more about it: [here](https://en.wikipedia.org/wiki/Percentile#Second_variant,_%7F'%22%60UNIQ--postMath-0000004A-QINU%60%22'%7F)"
   ]
  },
  {
   "cell_type": "code",
   "execution_count": 73,
   "id": "1421d7aa",
   "metadata": {},
   "outputs": [
    {
     "data": {
      "text/plain": [
       "5.5"
      ]
     },
     "execution_count": 73,
     "metadata": {},
     "output_type": "execute_result"
    }
   ],
   "source": [
    "f.nth_percentile(90)"
   ]
  },
  {
   "cell_type": "code",
   "execution_count": 74,
   "id": "9882d5f3",
   "metadata": {},
   "outputs": [
    {
     "data": {
      "text/plain": [
       "5.95"
      ]
     },
     "execution_count": 74,
     "metadata": {},
     "output_type": "execute_result"
    }
   ],
   "source": [
    "f.nth_percentile(99)"
   ]
  },
  {
   "cell_type": "code",
   "execution_count": 75,
   "id": "37ed49cc",
   "metadata": {},
   "outputs": [
    {
     "data": {
      "text/plain": [
       "2.5"
      ]
     },
     "execution_count": 75,
     "metadata": {},
     "output_type": "execute_result"
    }
   ],
   "source": [
    "f.IQR()"
   ]
  },
  {
   "cell_type": "markdown",
   "id": "a7e6e8fa",
   "metadata": {},
   "source": [
    "## Checking with Numpy, Scipy & Statsmodels version"
   ]
  },
  {
   "cell_type": "code",
   "execution_count": 76,
   "id": "bbc0ae3b",
   "metadata": {},
   "outputs": [],
   "source": [
    "assert f.nth_percentile(90) == np.percentile(a, 90)"
   ]
  },
  {
   "cell_type": "code",
   "execution_count": 77,
   "id": "6bbf9904",
   "metadata": {},
   "outputs": [],
   "source": [
    "assert f.IQR() == scipy.stats.iqr(a)"
   ]
  },
  {
   "cell_type": "code",
   "execution_count": 78,
   "id": "90eabd44",
   "metadata": {},
   "outputs": [],
   "source": [
    "assert f.mean_absolute_deviation() == mad(a, c=1)"
   ]
  },
  {
   "cell_type": "code",
   "execution_count": null,
   "id": "445cbc91",
   "metadata": {},
   "outputs": [],
   "source": []
  }
 ],
 "metadata": {
  "kernelspec": {
   "display_name": "Python 3",
   "language": "python",
   "name": "python3"
  },
  "language_info": {
   "codemirror_mode": {
    "name": "ipython",
    "version": 3
   },
   "file_extension": ".py",
   "mimetype": "text/x-python",
   "name": "python",
   "nbconvert_exporter": "python",
   "pygments_lexer": "ipython3",
   "version": "3.8.8"
  }
 },
 "nbformat": 4,
 "nbformat_minor": 5
}
